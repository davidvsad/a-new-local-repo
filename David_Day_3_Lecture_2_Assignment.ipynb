{
  "nbformat": 4,
  "nbformat_minor": 0,
  "metadata": {
    "colab": {
      "name": "Copy of Day 3 Lecture 2 Assignment.ipynb",
      "provenance": [],
      "collapsed_sections": [],
      "include_colab_link": true
    },
    "kernelspec": {
      "display_name": "Python 3",
      "language": "python",
      "name": "python3"
    },
    "language_info": {
      "codemirror_mode": {
        "name": "ipython",
        "version": 3
      },
      "file_extension": ".py",
      "mimetype": "text/x-python",
      "name": "python",
      "nbconvert_exporter": "python",
      "pygments_lexer": "ipython3",
      "version": "3.7.6"
    }
  },
  "cells": [
    {
      "cell_type": "markdown",
      "metadata": {
        "id": "view-in-github",
        "colab_type": "text"
      },
      "source": [
        "<a href=\"https://colab.research.google.com/github/davidvsad/a-new-local-repo/blob/main/David_Day_3_Lecture_2_Assignment.ipynb\" target=\"_parent\"><img src=\"https://colab.research.google.com/assets/colab-badge.svg\" alt=\"Open In Colab\"/></a>"
      ]
    },
    {
      "cell_type": "markdown",
      "metadata": {
        "id": "P7Ilhj45tM4S"
      },
      "source": [
        "# Descriptive Statistics Assignment"
      ]
    },
    {
      "cell_type": "code",
      "metadata": {
        "id": "PHC3rj3htM4T"
      },
      "source": [
        "import pandas as pd\n",
        "\n",
        "data_url = \"http://data.insideairbnb.com/united-states/ny/new-york-city/2020-06-08/visualisations/listings.csv\""
      ],
      "execution_count": null,
      "outputs": []
    },
    {
      "cell_type": "markdown",
      "metadata": {
        "id": "y_WevD1ftM4X"
      },
      "source": [
        "### Read the aggregated AirBnB listings of New York (using `data_url`) into a Pandas data frame."
      ]
    },
    {
      "cell_type": "code",
      "metadata": {
        "id": "RPX9nbZ1tM4Y"
      },
      "source": [
        ""
      ],
      "execution_count": null,
      "outputs": []
    },
    {
      "cell_type": "markdown",
      "metadata": {
        "id": "u58Qq-xjtM4a"
      },
      "source": [
        "### Print the data type for each column."
      ]
    },
    {
      "cell_type": "code",
      "metadata": {
        "id": "kgrSk4sjtM4b"
      },
      "source": [
        ""
      ],
      "execution_count": null,
      "outputs": []
    },
    {
      "cell_type": "markdown",
      "metadata": {
        "id": "i-JUNCl1tM4e"
      },
      "source": [
        "### Generate a basic set of descriptive statistics for the numeric fields in the data set."
      ]
    },
    {
      "cell_type": "code",
      "metadata": {
        "id": "Lh9RxSL1tM4e"
      },
      "source": [
        ""
      ],
      "execution_count": null,
      "outputs": []
    },
    {
      "cell_type": "markdown",
      "metadata": {
        "id": "fXoDTnC9tM4h"
      },
      "source": [
        "### Calculate the following for each numeric field in the data set and add them to the data frame containing the basic set of descriptive statistics.\n",
        "\n",
        "- Variance\n",
        "- Mean Absolute Deviation\n",
        "- Range\n",
        "- Interquartile Range"
      ]
    },
    {
      "cell_type": "code",
      "metadata": {
        "id": "FGxTOeMWtM4h"
      },
      "source": [
        ""
      ],
      "execution_count": null,
      "outputs": []
    },
    {
      "cell_type": "markdown",
      "metadata": {
        "id": "81YZ6C7ftM4l"
      },
      "source": [
        "### Generate a basic set of descriptive statistics for the categorical fields in the data set."
      ]
    },
    {
      "cell_type": "code",
      "metadata": {
        "id": "NCu1eHOGtM4l"
      },
      "source": [
        ""
      ],
      "execution_count": null,
      "outputs": []
    },
    {
      "cell_type": "markdown",
      "metadata": {
        "id": "vGaAtIbwtM4o"
      },
      "source": [
        "### Calculate the Pearson correlation coefficients between price, minimum_nights, reviews_per_month, calculated_host_listings_count and availability_365"
      ]
    },
    {
      "cell_type": "code",
      "metadata": {
        "id": "yWWeNyBxtM4p"
      },
      "source": [
        ""
      ],
      "execution_count": null,
      "outputs": []
    },
    {
      "cell_type": "markdown",
      "metadata": {
        "id": "AsFbCCdOtM4r"
      },
      "source": [
        "### Group the data by neighbourhood and calculate the mean and standard deviation of price for each neighbourhood."
      ]
    },
    {
      "cell_type": "code",
      "metadata": {
        "id": "FhrxQmuKtM4s"
      },
      "source": [
        ""
      ],
      "execution_count": null,
      "outputs": []
    },
    {
      "cell_type": "markdown",
      "metadata": {
        "id": "e6rJOzh4tM4v"
      },
      "source": [
        "### Create a new mimimum revenue index variable that combines the price, minimum nights, calculate host listings count into a single value for each dwelling. Then sort the data frame by that value to see which dwelling has the most financial strength. \n",
        "\n"
      ]
    },
    {
      "cell_type": "code",
      "metadata": {
        "id": "JtCtU89HtM4w"
      },
      "source": [
        ""
      ],
      "execution_count": null,
      "outputs": []
    },
    {
      "cell_type": "markdown",
      "metadata": {
        "id": "qyxHrLOvtM4y"
      },
      "source": [
        "### Group the data by neighbourhood_group and calculate the average minimum revenue index for each neighbourhood_group."
      ]
    },
    {
      "cell_type": "code",
      "metadata": {
        "id": "SgYmQ9HytM4z"
      },
      "source": [
        ""
      ],
      "execution_count": null,
      "outputs": []
    }
  ]
}